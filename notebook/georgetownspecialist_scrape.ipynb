{
 "cells": [
  {
   "cell_type": "code",
   "execution_count": 1,
   "metadata": {},
   "outputs": [],
   "source": [
    "import pandas as pd\n",
    "import numpy as np\n",
    "import requests\n",
    "from pathlib import Path\n",
    "import time\n",
    "import time\n",
    "from selenium import webdriver\n",
    "from selenium.webdriver.common.action_chains import ActionChains\n",
    "from selenium.webdriver.support.ui import Select"
   ]
  },
  {
   "cell_type": "code",
   "execution_count": 2,
   "metadata": {},
   "outputs": [],
   "source": [
    "import os\n",
    "directory = os.getcwd() \n"
   ]
  },
  {
   "cell_type": "code",
   "execution_count": 3,
   "metadata": {},
   "outputs": [],
   "source": [
    "# directory"
   ]
  },
  {
   "cell_type": "code",
   "execution_count": 4,
   "metadata": {},
   "outputs": [
    {
     "name": "stdout",
     "output_type": "stream",
     "text": [
      "latest version is 114.0.5735.90\n",
      "installed version is b'ChromeDriver 114.0.5735.90 (386bc09e8f4f2e025eddae123f36f6263096ae49-refs/branch-heads/5735@{#1052})\\r\\n'\n",
      "extracted version number is 114.0.5735.90\n",
      "download url is http://chromedriver.storage.googleapis.com/114.0.5735.90/chromedriver_win32.zip\n",
      "latest version is installed\n"
     ]
    }
   ],
   "source": [
    "import requests\n",
    "import zipfile\n",
    "import io\n",
    "import re\n",
    "import subprocess\n",
    "from sys import platform\n",
    "\n",
    "\n",
    "class GetChromedriver:\n",
    "    LATEST_URL = \"http://chromedriver.storage.googleapis.com/LATEST_RELEASE\"\n",
    "    BASE_URL = \"http://chromedriver.storage.googleapis.com/\"\n",
    "    MAC_FILENAME = \"chromedriver_mac64.zip\"\n",
    "    LINUX_FILENAME = \"chromedriver_linux64.zip\"\n",
    "    TARGET_DIR = directory  # change me\n",
    "\n",
    "    def __init__(self):\n",
    "        self.latest = self._get_latest_version()\n",
    "        self.installed = self._get_installed_version()\n",
    "        self.download_url = self._build_download_url()\n",
    "\n",
    "    def _get_latest_version(self):\n",
    "        response = requests.get(self.LATEST_URL)\n",
    "        text = response.text\n",
    "        print(f\"latest version is {text}\")\n",
    "        return text\n",
    "\n",
    "    def _get_installed_version(self):\n",
    "        try:\n",
    "            installed = str(\n",
    "                subprocess.run([\"chromedriver\", \"-v\"], stdout=subprocess.PIPE).stdout\n",
    "            )\n",
    "        except:\n",
    "            installed = (\n",
    "                \"0.0.0.0\"\n",
    "            )  # this is the pattern of the versioning chromedriver is following.\n",
    "        version = re.findall(\"\\d+\\.\\d+\\.\\d+\\.\\d+\", installed)[0]\n",
    "        print(f\"installed version is {installed}\")\n",
    "        print(f\"extracted version number is {version}\")\n",
    "        return version\n",
    "\n",
    "    def _build_download_url(self):\n",
    "        filename = \"chromedriver_win32.zip\"\n",
    "        url = f\"{self.BASE_URL}{self.latest}/{filename}\"\n",
    "        print(f\"download url is {url}\")\n",
    "        return url\n",
    "\n",
    "    def download_extract(self):\n",
    "        if self.latest != self.installed:\n",
    "            print(\"downloading latest chromedriver\")\n",
    "            response = requests.get(self.download_url, stream=True)\n",
    "            zip_file = zipfile.ZipFile(io.BytesIO(response.content))\n",
    "            zip_file.extractall(self.TARGET_DIR)\n",
    "            subprocess.run([\"chmod\", \"0777\", directory+\"\\\\chromedriver.zip\"])\n",
    "        else:\n",
    "            print(\"latest version is installed\")\n",
    "\n",
    "\n",
    "get_chromedriver = GetChromedriver()\n",
    "get_chromedriver.download_extract()"
   ]
  },
  {
   "cell_type": "code",
   "execution_count": 5,
   "metadata": {},
   "outputs": [],
   "source": [
    "from bs4 import BeautifulSoup\n",
    "import pandas as pd\n",
    "import time"
   ]
  },
  {
   "cell_type": "code",
   "execution_count": 6,
   "metadata": {},
   "outputs": [],
   "source": [
    "browser = webdriver.Chrome()\n",
    "browser.get('https://georgetownspecialist.com/consultant/')\n",
    "\n"
   ]
  },
  {
   "cell_type": "code",
   "execution_count": 119,
   "metadata": {},
   "outputs": [
    {
     "name": "stdout",
     "output_type": "stream",
     "text": [
      "https://georgetownspecialist.com/wp-content/uploads/2019/10/spclml.jpg\n",
      "https://georgetownspecialist.com/wp-content/uploads/2022/09/spcchr-1.jpg\n",
      "https://georgetownspecialist.com/wp-content/uploads/2019/10/spctbc.jpg\n",
      "https://georgetownspecialist.com/wp-content/uploads/2022/09/spcnkt-1.jpg\n",
      "https://georgetownspecialist.com/wp-content/uploads/2019/10/spctls.jpg\n",
      "https://georgetownspecialist.com/wp-content/uploads/2022/09/spctbs-1.jpg\n",
      "https://georgetownspecialist.com/wp-content/uploads/2022/09/spcirf-1.jpg\n",
      "https://georgetownspecialist.com/wp-content/uploads/2022/10/Dr-Teoh-1.jpg\n",
      "https://georgetownspecialist.com/wp-content/uploads/2022/09/Dietitian-Lucus-Lim.jpg\n",
      "https://georgetownspecialist.com/wp-content/uploads/2022/09/Dr-Fadzli.jpg\n",
      "https://georgetownspecialist.com/wp-content/uploads/2022/10/Dr-Shahul.jpg\n",
      "https://georgetownspecialist.com/wp-content/uploads/2022/09/Dr-Santhidren.jpg\n",
      "https://georgetownspecialist.com/wp-content/uploads/2022/09/Chenthilnathan-periasamy.png\n"
     ]
    }
   ],
   "source": [
    "soup = BeautifulSoup(browser.page_source, \"html.parser\")\n",
    "rows = soup.find_all(\"div\", class_=\"elementor-row\")\n",
    "\n",
    "# Lists to store the extracted information\n",
    "doctor_names = []\n",
    "qualifications = []\n",
    "qualifications_full = []\n",
    "image_links = []\n",
    "# URLs to exclude from the image links\n",
    "excluded_urls = [\n",
    "    \"https://georgetownspecialist.com/wp-content/uploads/2019/08/logo-300x277.jpg\",\n",
    "    'https://georgetownspecialist.com/wp-content/uploads/2019/10/Logo-Resize1-Mobile-300x86.png'\n",
    "]\n",
    "\n",
    "# Loop through each row and extract the data\n",
    "for row in rows:\n",
    "    # Find the doctor's name in h1 element\n",
    "    doctor_name_elem = row.find(\"h1\")\n",
    "    doctor_name = doctor_name_elem.text.strip() if doctor_name_elem else None\n",
    "    if doctor_name is not None:\n",
    "        doctor_names.append(doctor_name)\n",
    "\n",
    "        # Find the qualifications in p element\n",
    "        qualifications_divs = row.find_all(\"div\", class_=\"elementor-text-editor elementor-clearfix\")\n",
    "        if len(qualifications_divs) >= 2:\n",
    "            qualifications_find = qualifications_divs[1].find(\"strong\") if qualifications_div else None\n",
    "            qualifications_text = qualifications_find.text.strip() if qualifications_find else None\n",
    "            qualifications_text2 = qualifications_divs[1].text.strip() if qualifications_div else None\n",
    "\n",
    "            # Choose the relevant qualification text\n",
    "            qualifications_text = qualifications_text or qualifications_text2\n",
    "            qualifications.append(qualifications_text)\n",
    "            qualifications_full.append(qualifications_text2)\n",
    "            \n",
    "        img_tag = row.find(\"img\", class_=\"attachment-large size-large\")\n",
    "#         print(img_tag)\n",
    "        print(img_tag.get(\"src\"))\n",
    "        # Get the 'src' attribute of the img tag, which contains the image link\n",
    "        image_link = img_tag.get(\"src\")\n",
    "        image_links.append(image_link)\n",
    "\n",
    "# Create the DataFrame\n",
    "data = {\n",
    "    \"Doctor Name\": doctor_names,\n",
    "    \"Qualifications\": qualifications,\n",
    "    \"qualifications_full\": qualifications_full,\n",
    "    \"Images\": image_links\n",
    "}\n",
    "\n"
   ]
  },
  {
   "cell_type": "code",
   "execution_count": 120,
   "metadata": {},
   "outputs": [
    {
     "data": {
      "text/plain": [
       "{'Doctor Name': ['Datuk Dr. Liong Men Long',\n",
       "  'Dr. Christopher Lee T.',\n",
       "  'Dr. Tan Boon Cheong',\n",
       "  'Dr. Ng Kwee Tek',\n",
       "  'Dr. Tai Lee Siang',\n",
       "  'Dr. Tan Boon Seang',\n",
       "  'Dr. Irfhan Ali B. Hyder Ali',\n",
       "  'Dr.\\xa0 Teoh Sze Yong',\n",
       "  'Mr. Lucas Lim',\n",
       "  'Dr.\\xa0 Mohamad Fadli Bin Abd Rahman',\n",
       "  'Dr.\\xa0 HJ\\xa0 Shahul Hamid B. K A Ahmadsah',\n",
       "  'Dr.\\xa0 Sathindren Santhirathelagan',\n",
       "  'Dr.\\xa0 Chenthilnathan A/L Periasamy'],\n",
       " 'Qualifications': ['Consultant Urologist',\n",
       "  'Doctor Profile\\nConsultant Nephrologist & Physician \\nMD (USM), MRCP (UK), MMED (S’PORE)',\n",
       "  'Doctor ProfileConsultant Orthopaedic & Trauma SurgeonMBBS (Malaya), MS ORTHO (Malaya) \\u200b',\n",
       "  'Doctor ProfileObstetrics & GynaecologyMBBS (MONASH,AUS), DRCOG (UK)',\n",
       "  'Consultant General Surgeon',\n",
       "  'Visiting Consultant Radiotherapist',\n",
       "  'Visiting Consultant Chest Physician',\n",
       "  'Radiologist',\n",
       "  'Dietician',\n",
       "  'Visiting Consultant Gastroenterologist',\n",
       "  'Visiting Consultant Cardiologist',\n",
       "  'Visiting Internal Medicine / Neurology',\n",
       "  'Visiting ENT Head & Neck Surgeon'],\n",
       " 'qualifications_full': ['Doctor ProfileConsultant UrologistDMSM, MBBS (MAL), FRCS (EDIN), FRCS (GLASG)',\n",
       "  'Doctor Profile\\nConsultant Nephrologist & Physician \\nMD (USM), MRCP (UK), MMED (S’PORE)',\n",
       "  'Doctor ProfileConsultant Orthopaedic & Trauma SurgeonMBBS (Malaya), MS ORTHO (Malaya) \\u200b',\n",
       "  'Doctor ProfileObstetrics & GynaecologyMBBS (MONASH,AUS), DRCOG (UK)',\n",
       "  'Doctor Profile\\nConsultant General Surgeon\\nMBBS (S’PORE), FRCS (EDIN), AM (M’SIA)  \\n\\n\\u200b',\n",
       "  'Doctor Profile\\nVisiting Consultant Radiotherapist\\nMBBS (MAHE), FFRRCSI (IREL), AM (MAL)\\n\\n\\n\\u200b',\n",
       "  'Doctor Profile\\nVisiting Consultant Chest Physician\\nMBBS (Malaya), MMED INTERNAL MEDICINE (UKM),\\nRESPIRATORY MEDICINE SUBSPECIALITY (KKM)\\n\\n\\u200b',\n",
       "  'Doctor ProfileRadiologistMB BCH BAO, NATIONAL UNIVERSITY OF IRELAND, MASTER OF RADIOLOGIST (UNIVERSITY OF MALAYA), OBSERVATIONAL FELLOWSHIP IN BODY AND ONCOLOGY IMAGING, SINGAPORE',\n",
       "  'Consultant ProfileDieticianB.HEALTH SC. (HONS) DIETETICS (UKM)',\n",
       "  'Doctor ProfileVisiting Consultant GastroenterologistMBBS (UKM), DOCTOR OF INTERNAL MEDICINE (UKM), GASTROENTEROLOGY & HEPATOLOGY FELLOW (MINISTRY OF HEALTH)',\n",
       "  'Doctor ProfileVisiting Consultant CardiologistM.B.B.S (INTERNATIONAL ISLAMIC UNIVERSITY), FELLOW IN CARDIOLOGY (NATIONAL UNIVERSITY HEART SINGAPORE), INTERVENTIONAL CONSULTANT CARDIOLOGIST (SPECIAL INTEREST IN PULMONARY HYPERTENSION)',\n",
       "  'Doctor ProfileVisiting Internal Medicine / NeurologyDJN, MBBS (MANGALORE), MRCP (UK), CLINICAL FELLOW STROKE/NEUROLOGY (EDIN), CMIA',\n",
       "  'Doctor ProfileVisiting ENT Head & Neck SurgeonMBBS (BANGALORE) M.MED ORL-HNS (USM), RHINOLOGY & SKULLBASE (ITALY, AUSTRIA)'],\n",
       " 'Images': ['https://georgetownspecialist.com/wp-content/uploads/2019/10/spclml.jpg',\n",
       "  'https://georgetownspecialist.com/wp-content/uploads/2022/09/spcchr-1.jpg',\n",
       "  'https://georgetownspecialist.com/wp-content/uploads/2019/10/spctbc.jpg',\n",
       "  'https://georgetownspecialist.com/wp-content/uploads/2022/09/spcnkt-1.jpg',\n",
       "  'https://georgetownspecialist.com/wp-content/uploads/2019/10/spctls.jpg',\n",
       "  'https://georgetownspecialist.com/wp-content/uploads/2022/09/spctbs-1.jpg',\n",
       "  'https://georgetownspecialist.com/wp-content/uploads/2022/09/spcirf-1.jpg',\n",
       "  'https://georgetownspecialist.com/wp-content/uploads/2022/10/Dr-Teoh-1.jpg',\n",
       "  'https://georgetownspecialist.com/wp-content/uploads/2022/09/Dietitian-Lucus-Lim.jpg',\n",
       "  'https://georgetownspecialist.com/wp-content/uploads/2022/09/Dr-Fadzli.jpg',\n",
       "  'https://georgetownspecialist.com/wp-content/uploads/2022/10/Dr-Shahul.jpg',\n",
       "  'https://georgetownspecialist.com/wp-content/uploads/2022/09/Dr-Santhidren.jpg',\n",
       "  'https://georgetownspecialist.com/wp-content/uploads/2022/09/Chenthilnathan-periasamy.png']}"
      ]
     },
     "execution_count": 120,
     "metadata": {},
     "output_type": "execute_result"
    }
   ],
   "source": [
    "data"
   ]
  },
  {
   "cell_type": "code",
   "execution_count": 121,
   "metadata": {},
   "outputs": [
    {
     "name": "stdout",
     "output_type": "stream",
     "text": [
      "                              Doctor Name  \\\n",
      "0                Datuk Dr. Liong Men Long   \n",
      "1                  Dr. Christopher Lee T.   \n",
      "2                     Dr. Tan Boon Cheong   \n",
      "3                         Dr. Ng Kwee Tek   \n",
      "4                       Dr. Tai Lee Siang   \n",
      "5                      Dr. Tan Boon Seang   \n",
      "6             Dr. Irfhan Ali B. Hyder Ali   \n",
      "7                      Dr.  Teoh Sze Yong   \n",
      "8                           Mr. Lucas Lim   \n",
      "9       Dr.  Mohamad Fadli Bin Abd Rahman   \n",
      "10  Dr.  HJ  Shahul Hamid B. K A Ahmadsah   \n",
      "11       Dr.  Sathindren Santhirathelagan   \n",
      "12      Dr.  Chenthilnathan A/L Periasamy   \n",
      "\n",
      "                                       Qualifications  \\\n",
      "0                                Consultant Urologist   \n",
      "1   Doctor Profile\\nConsultant Nephrologist & Phys...   \n",
      "2   Doctor ProfileConsultant Orthopaedic & Trauma ...   \n",
      "3   Doctor ProfileObstetrics & GynaecologyMBBS (MO...   \n",
      "4                          Consultant General Surgeon   \n",
      "5                  Visiting Consultant Radiotherapist   \n",
      "6                 Visiting Consultant Chest Physician   \n",
      "7                                         Radiologist   \n",
      "8                                           Dietician   \n",
      "9              Visiting Consultant Gastroenterologist   \n",
      "10                   Visiting Consultant Cardiologist   \n",
      "11             Visiting Internal Medicine / Neurology   \n",
      "12                   Visiting ENT Head & Neck Surgeon   \n",
      "\n",
      "                                  qualifications_full  \\\n",
      "0   Doctor ProfileConsultant UrologistDMSM, MBBS (...   \n",
      "1   Doctor Profile\\nConsultant Nephrologist & Phys...   \n",
      "2   Doctor ProfileConsultant Orthopaedic & Trauma ...   \n",
      "3   Doctor ProfileObstetrics & GynaecologyMBBS (MO...   \n",
      "4   Doctor Profile\\nConsultant General Surgeon\\nMB...   \n",
      "5   Doctor Profile\\nVisiting Consultant Radiothera...   \n",
      "6   Doctor Profile\\nVisiting Consultant Chest Phys...   \n",
      "7   Doctor ProfileRadiologistMB BCH BAO, NATIONAL ...   \n",
      "8   Consultant ProfileDieticianB.HEALTH SC. (HONS)...   \n",
      "9   Doctor ProfileVisiting Consultant Gastroentero...   \n",
      "10  Doctor ProfileVisiting Consultant Cardiologist...   \n",
      "11  Doctor ProfileVisiting Internal Medicine / Neu...   \n",
      "12  Doctor ProfileVisiting ENT Head & Neck Surgeon...   \n",
      "\n",
      "                                               Images  \n",
      "0   https://georgetownspecialist.com/wp-content/up...  \n",
      "1   https://georgetownspecialist.com/wp-content/up...  \n",
      "2   https://georgetownspecialist.com/wp-content/up...  \n",
      "3   https://georgetownspecialist.com/wp-content/up...  \n",
      "4   https://georgetownspecialist.com/wp-content/up...  \n",
      "5   https://georgetownspecialist.com/wp-content/up...  \n",
      "6   https://georgetownspecialist.com/wp-content/up...  \n",
      "7   https://georgetownspecialist.com/wp-content/up...  \n",
      "8   https://georgetownspecialist.com/wp-content/up...  \n",
      "9   https://georgetownspecialist.com/wp-content/up...  \n",
      "10  https://georgetownspecialist.com/wp-content/up...  \n",
      "11  https://georgetownspecialist.com/wp-content/up...  \n",
      "12  https://georgetownspecialist.com/wp-content/up...  \n"
     ]
    }
   ],
   "source": [
    "df = pd.DataFrame(data)\n",
    "\n",
    "# Display the DataFrame\n",
    "print(df)"
   ]
  },
  {
   "cell_type": "code",
   "execution_count": 123,
   "metadata": {},
   "outputs": [],
   "source": [
    "df.to_csv(\"georgetownspecialist_scrap.csv\")"
   ]
  },
  {
   "cell_type": "code",
   "execution_count": null,
   "metadata": {},
   "outputs": [],
   "source": []
  }
 ],
 "metadata": {
  "kernelspec": {
   "display_name": "Python 3",
   "language": "python",
   "name": "python3"
  },
  "language_info": {
   "codemirror_mode": {
    "name": "ipython",
    "version": 3
   },
   "file_extension": ".py",
   "mimetype": "text/x-python",
   "name": "python",
   "nbconvert_exporter": "python",
   "pygments_lexer": "ipython3",
   "version": "3.8.3"
  }
 },
 "nbformat": 4,
 "nbformat_minor": 5
}
